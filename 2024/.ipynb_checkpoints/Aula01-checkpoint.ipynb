{
 "cells": [
  {
   "cell_type": "markdown",
   "id": "415bae87-d880-4f28-ad37-f8ad95837895",
   "metadata": {},
   "source": [
    "#Aula 01\n",
    "Nesta aula vamos trabalhar com os comandos básicos do Python.\n",
    "\n",
    "- Tipos de variáveis\n",
    "- Operações matemáticas\n",
    "- Uso de pacotes\n",
    "- Numpy array\n",
    "- Condições"
   ]
  },
  {
   "cell_type": "markdown",
   "id": "02034101-e3e2-4904-a869-e2fdebabbe44",
   "metadata": {},
   "source": [
    "# Tipos de variáveis"
   ]
  },
  {
   "cell_type": "code",
   "execution_count": 4,
   "id": "bff4b154-0714-4f33-9634-1e01dc6d36ac",
   "metadata": {},
   "outputs": [
    {
     "name": "stdout",
     "output_type": "stream",
     "text": [
      "O valor de a é igual a 1\n",
      "<class 'int'>\n"
     ]
    }
   ],
   "source": [
    "# Números inteiros - int - integer\n",
    "\n",
    "a = 1\n",
    "print('O valor de a é igual a '+ str(a))\n",
    "print(type(a))"
   ]
  },
  {
   "cell_type": "code",
   "execution_count": 12,
   "id": "ed7d8acc-8b9d-48c6-b49f-2210fc0621e9",
   "metadata": {},
   "outputs": [
    {
     "name": "stdout",
     "output_type": "stream",
     "text": [
      "['Marcos', 'Maria Eduarda', 'Larissa']\n",
      "3\n",
      "O tamanho da lista é 3\n"
     ]
    }
   ],
   "source": [
    "#float\n",
    "\n",
    "#texto - charm - string\n",
    "\n",
    "#lista de texto - list\n",
    "\n",
    "nameslist = ['Marcos', 'Maria Eduarda', 'Larissa']\n",
    "print(nameslist)\n",
    "\n",
    "#comando para identificar o tamanho da lista\n",
    "print(len(nameslist))\n",
    "print('O tamanho da lista é ' + str(len(nameslist)))"
   ]
  },
  {
   "cell_type": "code",
   "execution_count": 19,
   "id": "6dac3c53-b217-4ff3-b6f1-bb87f0020ec0",
   "metadata": {},
   "outputs": [
    {
     "name": "stdout",
     "output_type": "stream",
     "text": [
      "[10, 10, 10, 6.5, 'José', 'Marcos', 'Rafael', 'Bruno']\n",
      "10\n"
     ]
    }
   ],
   "source": [
    "numNameList = [10, 10, 10, 6.5, 'José','Marcos','Rafael','Bruno']\n",
    "print(numNameList)\n",
    "print(numNameList[0])"
   ]
  },
  {
   "cell_type": "code",
   "execution_count": 28,
   "id": "b7b383bb-1d77-494d-a285-2f4c4c5a1c26",
   "metadata": {},
   "outputs": [
    {
     "name": "stdout",
     "output_type": "stream",
     "text": [
      "<class 'dict'>\n",
      "['1.95', 1.67, 1.63]\n",
      "Larissa\n"
     ]
    }
   ],
   "source": [
    "#dicionário\n",
    "\n",
    "nameDict = {\n",
    "    'name': ['Marcos','Larissa','Daphne'],\n",
    "    'altura': ['1.95',1.67,1.63]\n",
    "}\n",
    "print(type(nameDict))\n",
    "print(nameDict['altura'])\n",
    "\n",
    "#extraindo o segundo valor da variável 'altura' dentro do dicionario nameDict\n",
    "\n",
    "print(nameDict['name'][1])"
   ]
  },
  {
   "cell_type": "code",
   "execution_count": 35,
   "id": "8b407872-b51e-43aa-bff0-baaec7becc16",
   "metadata": {},
   "outputs": [
    {
     "name": "stdout",
     "output_type": "stream",
     "text": [
      "1.95\n",
      "1.67\n",
      "1.63\n",
      "<class 'int'>\n"
     ]
    }
   ],
   "source": [
    "#operações matemáticas\n",
    "#soma das alturas do dicionário utilizando loop\n",
    "\n",
    "somadasalturas = 0\n",
    "for alturas in nameDict['altura']:\n",
    "    print(alturas)\n",
    "#    somadasalturas = somadasalturas + alturas\n",
    "#print('A soma das alturas é = ' + str(somadasalturas))\n",
    "\n",
    "print(type(somadasalturas))"
   ]
  },
  {
   "cell_type": "code",
   "execution_count": null,
   "id": "46393911-2dfe-429a-96ad-6e1d92183e6c",
   "metadata": {},
   "outputs": [],
   "source": []
  }
 ],
 "metadata": {
  "kernelspec": {
   "display_name": "Python 3 (ipykernel)",
   "language": "python",
   "name": "python3"
  },
  "language_info": {
   "codemirror_mode": {
    "name": "ipython",
    "version": 3
   },
   "file_extension": ".py",
   "mimetype": "text/x-python",
   "name": "python",
   "nbconvert_exporter": "python",
   "pygments_lexer": "ipython3",
   "version": "3.11.8"
  }
 },
 "nbformat": 4,
 "nbformat_minor": 5
}
