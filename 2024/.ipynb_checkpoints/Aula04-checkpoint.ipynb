{
 "cells": [
  {
   "cell_type": "markdown",
   "id": "4e15a7b5-0873-4a16-ae56-52b1221586ac",
   "metadata": {},
   "source": [
    "#Aula 04\n",
    "\n",
    "Trabalharemos com dados de uma estação de monitoramento da qualidade do ar em SP (CETESB). Faremos as seguintes etapas:\n",
    "1. Formatação do arquivo em um dataframe\n",
    "2. Detecção de falhas\n",
    "3. Interpolação\n",
    "4. Estatística bivariada\n",
    "5. Regressão"
   ]
  },
  {
   "cell_type": "code",
   "execution_count": 72,
   "id": "9c8b0f3c-7ec4-47ca-8f00-5c6f50574b17",
   "metadata": {},
   "outputs": [],
   "source": [
    "#Importando bibliotecas\n",
    "import os\n",
    "import numpy as np\n",
    "import pandas as pd\n",
    "import matplotlib.pyplot as plt\n",
    "import scipy\n",
    "import sklearn"
   ]
  },
  {
   "cell_type": "code",
   "execution_count": 24,
   "id": "8cb99389-e6d2-4870-8fcd-5c91c73dbd7c",
   "metadata": {},
   "outputs": [
    {
     "data": {
      "text/html": [
       "<div>\n",
       "<style scoped>\n",
       "    .dataframe tbody tr th:only-of-type {\n",
       "        vertical-align: middle;\n",
       "    }\n",
       "\n",
       "    .dataframe tbody tr th {\n",
       "        vertical-align: top;\n",
       "    }\n",
       "\n",
       "    .dataframe thead th {\n",
       "        text-align: right;\n",
       "    }\n",
       "</style>\n",
       "<table border=\"1\" class=\"dataframe\">\n",
       "  <thead>\n",
       "    <tr style=\"text-align: right;\">\n",
       "      <th></th>\n",
       "      <th>Unnamed: 0</th>\n",
       "      <th>Unnamed: 1</th>\n",
       "      <th>MP2.5(Partículas Inaláveis Finas) - µg/m3</th>\n",
       "      <th>NO2(Dióxido de Nitrogênio) - µg/m3</th>\n",
       "      <th>O3(Ozônio) - µg/m3</th>\n",
       "    </tr>\n",
       "  </thead>\n",
       "  <tbody>\n",
       "    <tr>\n",
       "      <th>0</th>\n",
       "      <td>01/01/2023</td>\n",
       "      <td>01:00</td>\n",
       "      <td>23.0</td>\n",
       "      <td>22.0</td>\n",
       "      <td>33.0</td>\n",
       "    </tr>\n",
       "    <tr>\n",
       "      <th>1</th>\n",
       "      <td>01/01/2023</td>\n",
       "      <td>02:00</td>\n",
       "      <td>60.0</td>\n",
       "      <td>35.0</td>\n",
       "      <td>6.0</td>\n",
       "    </tr>\n",
       "    <tr>\n",
       "      <th>2</th>\n",
       "      <td>01/01/2023</td>\n",
       "      <td>03:00</td>\n",
       "      <td>95.0</td>\n",
       "      <td>27.0</td>\n",
       "      <td>1.0</td>\n",
       "    </tr>\n",
       "    <tr>\n",
       "      <th>3</th>\n",
       "      <td>01/01/2023</td>\n",
       "      <td>04:00</td>\n",
       "      <td>64.0</td>\n",
       "      <td>27.0</td>\n",
       "      <td>1.0</td>\n",
       "    </tr>\n",
       "    <tr>\n",
       "      <th>4</th>\n",
       "      <td>01/01/2023</td>\n",
       "      <td>05:00</td>\n",
       "      <td>52.0</td>\n",
       "      <td>20.0</td>\n",
       "      <td>1.0</td>\n",
       "    </tr>\n",
       "  </tbody>\n",
       "</table>\n",
       "</div>"
      ],
      "text/plain": [
       "   Unnamed: 0 Unnamed: 1  MP2.5(Partículas Inaláveis Finas) - µg/m3  \\\n",
       "0  01/01/2023      01:00                                       23.0   \n",
       "1  01/01/2023      02:00                                       60.0   \n",
       "2  01/01/2023      03:00                                       95.0   \n",
       "3  01/01/2023      04:00                                       64.0   \n",
       "4  01/01/2023      05:00                                       52.0   \n",
       "\n",
       "   NO2(Dióxido de Nitrogênio) - µg/m3  O3(Ozônio) - µg/m3  \n",
       "0                                22.0                33.0  \n",
       "1                                35.0                 6.0  \n",
       "2                                27.0                 1.0  \n",
       "3                                27.0                 1.0  \n",
       "4                                20.0                 1.0  "
      ]
     },
     "execution_count": 24,
     "metadata": {},
     "output_type": "execute_result"
    }
   ],
   "source": [
    "path = r'C:\\Users\\laris\\OneDrive\\Documents\\GitHub\\ENS410064\\2024\\dados\\dados_aula4.csv'\n",
    "data = pd.read_csv(path,header = 6, sep = ';', encoding = 'latin-1')\n",
    "data.head()"
   ]
  },
  {
   "cell_type": "code",
   "execution_count": 28,
   "id": "ac0517a7-4fc2-4766-bdf3-afdaf7c5184a",
   "metadata": {},
   "outputs": [],
   "source": [
    "#header0 = data.columns[0:2]\n",
    "#print(header0)\n",
    "#header1 = data.iloc[0,2:]\n",
    "#print(header1)\n",
    "\n",
    "#data.columns = ['Date','Hour','PM25','NO2','O3']\n",
    "#data.head()"
   ]
  },
  {
   "cell_type": "code",
   "execution_count": 36,
   "id": "0b1418a2-f4e4-4a36-80d4-48e8fbef4227",
   "metadata": {},
   "outputs": [
    {
     "name": "stdout",
     "output_type": "stream",
     "text": [
      "['data', 'hour', 'MP2.5(Partículas Inaláveis Finas) - µg/m3', 'NO2(Dióxido de Nitrogênio) - µg/m3', 'O3(Ozônio) - µg/m3']\n",
      "['date', 'hour', 'MP2.5(Partículas Inaláveis Finas) - µg/m3', 'NO2(Dióxido de Nitrogênio) - µg/m3', 'O3(Ozônio) - µg/m3']\n"
     ]
    }
   ],
   "source": [
    "#fazdendo merge dos headers\n",
    "print(data.columns.to_list())\n",
    "\n",
    "header = data.columns.to_list()\n",
    "header[0:2] = ['date','hour']\n",
    "print(header)"
   ]
  },
  {
   "cell_type": "code",
   "execution_count": 37,
   "id": "64f73dbe-279b-43f0-9321-a36cbf8e94dc",
   "metadata": {},
   "outputs": [
    {
     "data": {
      "text/html": [
       "<div>\n",
       "<style scoped>\n",
       "    .dataframe tbody tr th:only-of-type {\n",
       "        vertical-align: middle;\n",
       "    }\n",
       "\n",
       "    .dataframe tbody tr th {\n",
       "        vertical-align: top;\n",
       "    }\n",
       "\n",
       "    .dataframe thead th {\n",
       "        text-align: right;\n",
       "    }\n",
       "</style>\n",
       "<table border=\"1\" class=\"dataframe\">\n",
       "  <thead>\n",
       "    <tr style=\"text-align: right;\">\n",
       "      <th></th>\n",
       "      <th>date</th>\n",
       "      <th>hour</th>\n",
       "      <th>MP2.5(Partículas Inaláveis Finas) - µg/m3</th>\n",
       "      <th>NO2(Dióxido de Nitrogênio) - µg/m3</th>\n",
       "      <th>O3(Ozônio) - µg/m3</th>\n",
       "    </tr>\n",
       "  </thead>\n",
       "  <tbody>\n",
       "    <tr>\n",
       "      <th>0</th>\n",
       "      <td>01/01/2023</td>\n",
       "      <td>01:00</td>\n",
       "      <td>23.0</td>\n",
       "      <td>22.0</td>\n",
       "      <td>33.0</td>\n",
       "    </tr>\n",
       "    <tr>\n",
       "      <th>1</th>\n",
       "      <td>01/01/2023</td>\n",
       "      <td>02:00</td>\n",
       "      <td>60.0</td>\n",
       "      <td>35.0</td>\n",
       "      <td>6.0</td>\n",
       "    </tr>\n",
       "    <tr>\n",
       "      <th>2</th>\n",
       "      <td>01/01/2023</td>\n",
       "      <td>03:00</td>\n",
       "      <td>95.0</td>\n",
       "      <td>27.0</td>\n",
       "      <td>1.0</td>\n",
       "    </tr>\n",
       "    <tr>\n",
       "      <th>3</th>\n",
       "      <td>01/01/2023</td>\n",
       "      <td>04:00</td>\n",
       "      <td>64.0</td>\n",
       "      <td>27.0</td>\n",
       "      <td>1.0</td>\n",
       "    </tr>\n",
       "    <tr>\n",
       "      <th>4</th>\n",
       "      <td>01/01/2023</td>\n",
       "      <td>05:00</td>\n",
       "      <td>52.0</td>\n",
       "      <td>20.0</td>\n",
       "      <td>1.0</td>\n",
       "    </tr>\n",
       "  </tbody>\n",
       "</table>\n",
       "</div>"
      ],
      "text/plain": [
       "         date   hour  MP2.5(Partículas Inaláveis Finas) - µg/m3  \\\n",
       "0  01/01/2023  01:00                                       23.0   \n",
       "1  01/01/2023  02:00                                       60.0   \n",
       "2  01/01/2023  03:00                                       95.0   \n",
       "3  01/01/2023  04:00                                       64.0   \n",
       "4  01/01/2023  05:00                                       52.0   \n",
       "\n",
       "   NO2(Dióxido de Nitrogênio) - µg/m3  O3(Ozônio) - µg/m3  \n",
       "0                                22.0                33.0  \n",
       "1                                35.0                 6.0  \n",
       "2                                27.0                 1.0  \n",
       "3                                27.0                 1.0  \n",
       "4                                20.0                 1.0  "
      ]
     },
     "execution_count": 37,
     "metadata": {},
     "output_type": "execute_result"
    }
   ],
   "source": [
    "data.columns = header\n",
    "data.head()"
   ]
  },
  {
   "cell_type": "code",
   "execution_count": 38,
   "id": "84394012-1111-4234-b139-a5322945b8bd",
   "metadata": {},
   "outputs": [
    {
     "data": {
      "text/plain": [
       "0       23.0\n",
       "1       60.0\n",
       "2       95.0\n",
       "3       64.0\n",
       "4       52.0\n",
       "        ... \n",
       "8755    11.0\n",
       "8756     6.0\n",
       "8757     6.0\n",
       "8758     2.0\n",
       "8759     0.0\n",
       "Name: MP2.5(Partículas Inaláveis Finas) - µg/m3, Length: 8760, dtype: float64"
      ]
     },
     "execution_count": 38,
     "metadata": {},
     "output_type": "execute_result"
    }
   ],
   "source": [
    "#acessando as colunas\n",
    "#função iloc = não preciso dizer o nome da coluna, apenas referenciá-la.\n",
    "\n",
    "#data['MP2.5(Partículas Inaláveis Finas)']\n",
    "\n",
    "#ou\n",
    "\n",
    "data.iloc[:,2]"
   ]
  },
  {
   "cell_type": "code",
   "execution_count": 40,
   "id": "52bb5797-0e5b-47a0-aecd-3714d71dbde7",
   "metadata": {},
   "outputs": [
    {
     "data": {
      "text/html": [
       "<div>\n",
       "<style scoped>\n",
       "    .dataframe tbody tr th:only-of-type {\n",
       "        vertical-align: middle;\n",
       "    }\n",
       "\n",
       "    .dataframe tbody tr th {\n",
       "        vertical-align: top;\n",
       "    }\n",
       "\n",
       "    .dataframe thead th {\n",
       "        text-align: right;\n",
       "    }\n",
       "</style>\n",
       "<table border=\"1\" class=\"dataframe\">\n",
       "  <thead>\n",
       "    <tr style=\"text-align: right;\">\n",
       "      <th></th>\n",
       "      <th>date</th>\n",
       "      <th>hour</th>\n",
       "      <th>MP2.5(Partículas Inaláveis Finas) - µg/m3</th>\n",
       "      <th>NO2(Dióxido de Nitrogênio) - µg/m3</th>\n",
       "      <th>O3(Ozônio) - µg/m3</th>\n",
       "      <th>datetimes</th>\n",
       "    </tr>\n",
       "  </thead>\n",
       "  <tbody>\n",
       "    <tr>\n",
       "      <th>0</th>\n",
       "      <td>01/01/2023</td>\n",
       "      <td>01:00</td>\n",
       "      <td>23.0</td>\n",
       "      <td>22.0</td>\n",
       "      <td>33.0</td>\n",
       "      <td>2023-01-01</td>\n",
       "    </tr>\n",
       "    <tr>\n",
       "      <th>1</th>\n",
       "      <td>01/01/2023</td>\n",
       "      <td>02:00</td>\n",
       "      <td>60.0</td>\n",
       "      <td>35.0</td>\n",
       "      <td>6.0</td>\n",
       "      <td>2023-01-01</td>\n",
       "    </tr>\n",
       "    <tr>\n",
       "      <th>2</th>\n",
       "      <td>01/01/2023</td>\n",
       "      <td>03:00</td>\n",
       "      <td>95.0</td>\n",
       "      <td>27.0</td>\n",
       "      <td>1.0</td>\n",
       "      <td>2023-01-01</td>\n",
       "    </tr>\n",
       "    <tr>\n",
       "      <th>3</th>\n",
       "      <td>01/01/2023</td>\n",
       "      <td>04:00</td>\n",
       "      <td>64.0</td>\n",
       "      <td>27.0</td>\n",
       "      <td>1.0</td>\n",
       "      <td>2023-01-01</td>\n",
       "    </tr>\n",
       "    <tr>\n",
       "      <th>4</th>\n",
       "      <td>01/01/2023</td>\n",
       "      <td>05:00</td>\n",
       "      <td>52.0</td>\n",
       "      <td>20.0</td>\n",
       "      <td>1.0</td>\n",
       "      <td>2023-01-01</td>\n",
       "    </tr>\n",
       "  </tbody>\n",
       "</table>\n",
       "</div>"
      ],
      "text/plain": [
       "         date   hour  MP2.5(Partículas Inaláveis Finas) - µg/m3  \\\n",
       "0  01/01/2023  01:00                                       23.0   \n",
       "1  01/01/2023  02:00                                       60.0   \n",
       "2  01/01/2023  03:00                                       95.0   \n",
       "3  01/01/2023  04:00                                       64.0   \n",
       "4  01/01/2023  05:00                                       52.0   \n",
       "\n",
       "   NO2(Dióxido de Nitrogênio) - µg/m3  O3(Ozônio) - µg/m3  datetimes  \n",
       "0                                22.0                33.0 2023-01-01  \n",
       "1                                35.0                 6.0 2023-01-01  \n",
       "2                                27.0                 1.0 2023-01-01  \n",
       "3                                27.0                 1.0 2023-01-01  \n",
       "4                                20.0                 1.0 2023-01-01  "
      ]
     },
     "execution_count": 40,
     "metadata": {},
     "output_type": "execute_result"
    }
   ],
   "source": [
    "#trabalhando com as datas\n",
    "\n",
    "data['datetimes'] = pd.to_datetime(data['date'], format='%d/%m/%Y')\n",
    "data.head()"
   ]
  },
  {
   "cell_type": "code",
   "execution_count": 42,
   "id": "abd34d7f-5b00-406f-94a7-1183b841df97",
   "metadata": {},
   "outputs": [
    {
     "name": "stdout",
     "output_type": "stream",
     "text": [
      "96\n"
     ]
    }
   ],
   "source": [
    "#checando se existem dados faltantes\n",
    "print(np.sum(data.iloc[:,2].isna()))"
   ]
  },
  {
   "cell_type": "code",
   "execution_count": 56,
   "id": "977cba41-39a7-4dc0-bf20-7544bda8e3b3",
   "metadata": {},
   "outputs": [
    {
     "data": {
      "text/plain": [
       "<matplotlib.collections.PathCollection at 0x199d9f1f750>"
      ]
     },
     "execution_count": 56,
     "metadata": {},
     "output_type": "execute_result"
    },
    {
     "data": {
      "image/png": "[encoded data removed]",
      "text/plain": [
       "<Figure size 640x480 with 1 Axes>"
      ]
     },
     "metadata": {},
     "output_type": "display_data"
    }
   ],
   "source": [
    "#plotando a série\n",
    "fig, ax = plt.subplots()\n",
    "ax.plot(data.datetimes,data.iloc[:,2])\n",
    "ax.scatter(data.datetimes[data.iloc[:,2].isna()],np.zeros(np.sum(data.iloc[:,2].isna())),color = 'red')"
   ]
  },
  {
   "cell_type": "code",
   "execution_count": 58,
   "id": "74e4d9c8-c7dd-4592-8da8-41bd7b6553b5",
   "metadata": {},
   "outputs": [
    {
     "name": "stdout",
     "output_type": "stream",
     "text": [
      "A série tem 0 dados faltantes\n"
     ]
    }
   ],
   "source": [
    "#interpolando os dados\n",
    "#np.interpolate\n",
    "\n",
    "dadoInterpolado = data.iloc[:,2].interpolate()\n",
    "\n",
    "#checando se existem dados faltantes\n",
    "print('A série tem ' + str(np.sum(dadoInterpolado.isna()))+' dados faltantes')"
   ]
  },
  {
   "cell_type": "code",
   "execution_count": 60,
   "id": "5a6736e3-f4bd-498d-aea6-668abdd997a7",
   "metadata": {},
   "outputs": [
    {
     "data": {
      "text/plain": [
       "[<matplotlib.lines.Line2D at 0x199da096910>]"
      ]
     },
     "execution_count": 60,
     "metadata": {},
     "output_type": "execute_result"
    },
    {
     "data": {
      "image/png": "[encoded data removed]",
      "text/plain": [
       "<Figure size 640x480 with 1 Axes>"
      ]
     },
     "metadata": {},
     "output_type": "display_data"
    }
   ],
   "source": [
    "# Plotando todos os dados\n",
    "\n",
    "fig,ax = plt.subplots()\n",
    "ax.plot(data.iloc[:,2],alpha=0.2)\n",
    "ax.plot(data.iloc[:,3],alpha=0.3)"
   ]
  },
  {
   "cell_type": "code",
   "execution_count": 68,
   "id": "a3870329-a976-42c1-9cb0-168e3e276c37",
   "metadata": {},
   "outputs": [
    {
     "name": "stdout",
     "output_type": "stream",
     "text": [
      "R-Squared1.000000\n",
      "LinregressResult(slope=np.float64(1.0), intercept=np.float64(0.0), rvalue=np.float64(1.0), pvalue=np.float64(0.0), stderr=np.float64(0.0), intercept_stderr=np.float64(0.0))\n"
     ]
    }
   ],
   "source": [
    "#regressão linear\n",
    "from scipy import stats\n",
    "\n",
    "res = stats.linregress(data.iloc[:,2].interpolate(),data.iloc[:,2].interpolate())\n",
    "\n",
    "print(f\"R-Squared{res.rvalue**2:.6f}\")\n",
    "print(res)"
   ]
  },
  {
   "cell_type": "code",
   "execution_count": 73,
   "id": "487a549a-348b-449a-a27e-644e6481cddc",
   "metadata": {},
   "outputs": [
    {
     "name": "stderr",
     "output_type": "stream",
     "text": [
      "C:\\Users\\laris\\AppData\\Local\\Programs\\Python\\Python311\\Lib\\site-packages\\sklearn\\neural_network\\_multilayer_perceptron.py:1631: DataConversionWarning: A column-vector y was passed when a 1d array was expected. Please change the shape of y to (n_samples, ), for example using ravel().\n",
      "  y = column_or_1d(y, warn=True)\n"
     ]
    },
    {
     "data": {
      "text/plain": [
       "0.23437139333907053"
      ]
     },
     "execution_count": 73,
     "metadata": {},
     "output_type": "execute_result"
    }
   ],
   "source": [
    "# Regressão usando rede neural\n",
    "from sklearn.neural_network import MLPRegressor\n",
    "from sklearn.datasets import make_regression\n",
    "from sklearn.model_selection import train_test_split\n",
    "\n",
    "# X, y = make_regression(n_samples=200, random_state=1)\n",
    "X_train, X_test, y_train, y_test = train_test_split(np.array(data.iloc[:,2].interpolate()).reshape(-1, 1)\n",
    "                                                    , np.array(data.iloc[:,3].interpolate()).reshape(-1, 1),\n",
    "                                                    random_state=1)\n",
    "regr = MLPRegressor(random_state=1, max_iter=500).fit(X_train, y_train)\n",
    "regr.predict(X_test[:2])\n",
    "regr.score(X_test, y_test)"
   ]
  },
  {
   "cell_type": "code",
   "execution_count": null,
   "id": "a751c33b-cadc-4dfd-817c-ace253e71467",
   "metadata": {},
   "outputs": [],
   "source": []
  }
 ],
 "metadata": {
  "kernelspec": {
   "display_name": "Python 3 (ipykernel)",
   "language": "python",
   "name": "python3"
  },
  "language_info": {
   "codemirror_mode": {
    "name": "ipython",
    "version": 3
   },
   "file_extension": ".py",
   "mimetype": "text/x-python",
   "name": "python",
   "nbconvert_exporter": "python",
   "pygments_lexer": "ipython3",
   "version": "3.11.8"
  }
 },
 "nbformat": 4,
 "nbformat_minor": 5
}
