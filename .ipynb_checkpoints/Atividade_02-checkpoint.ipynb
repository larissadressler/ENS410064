{
 "cells": [
  {
   "cell_type": "markdown",
   "id": "7c01b1a7-cb8f-41f3-aeff-b5fbedb04e72",
   "metadata": {},
   "source": [
    "ENS410064\n",
    "Atividade 02 - Python aplicado a estudos ambientais"
   ]
  },
  {
   "cell_type": "code",
   "execution_count": null,
   "id": "1d306162-e092-4758-aa89-607def093e16",
   "metadata": {},
   "outputs": [],
   "source": [
    "!pip install pandas"
   ]
  },
  {
   "cell_type": "code",
   "execution_count": 47,
   "id": "09ebed9d-6e07-4e2f-b542-9759213e936b",
   "metadata": {},
   "outputs": [],
   "source": [
    "#importando o pandas\n",
    "import pandas as pd"
   ]
  },
  {
   "cell_type": "code",
   "execution_count": 155,
   "id": "1e25ce32-c689-46a5-84c1-c7ccca97aad8",
   "metadata": {},
   "outputs": [
    {
     "data": {
      "text/html": [
       "<div>\n",
       "<style scoped>\n",
       "    .dataframe tbody tr th:only-of-type {\n",
       "        vertical-align: middle;\n",
       "    }\n",
       "\n",
       "    .dataframe tbody tr th {\n",
       "        vertical-align: top;\n",
       "    }\n",
       "\n",
       "    .dataframe thead th {\n",
       "        text-align: right;\n",
       "    }\n",
       "</style>\n",
       "<table border=\"1\" class=\"dataframe\">\n",
       "  <thead>\n",
       "    <tr style=\"text-align: right;\">\n",
       "      <th></th>\n",
       "      <th>Data</th>\n",
       "      <th>Hora</th>\n",
       "      <th>Chuva</th>\n",
       "      <th>Nivel</th>\n",
       "      <th>Vazao</th>\n",
       "    </tr>\n",
       "  </thead>\n",
       "  <tbody>\n",
       "    <tr>\n",
       "      <th>0</th>\n",
       "      <td>01/04/2024</td>\n",
       "      <td>00:00:00</td>\n",
       "      <td>0.0</td>\n",
       "      <td>172.0</td>\n",
       "      <td>94.0</td>\n",
       "    </tr>\n",
       "    <tr>\n",
       "      <th>1</th>\n",
       "      <td>01/04/2024</td>\n",
       "      <td>01:00:00</td>\n",
       "      <td>0.0</td>\n",
       "      <td>170.0</td>\n",
       "      <td>90.9</td>\n",
       "    </tr>\n",
       "    <tr>\n",
       "      <th>2</th>\n",
       "      <td>01/04/2024</td>\n",
       "      <td>02:00:00</td>\n",
       "      <td>0.0</td>\n",
       "      <td>169.0</td>\n",
       "      <td>89.4</td>\n",
       "    </tr>\n",
       "    <tr>\n",
       "      <th>3</th>\n",
       "      <td>01/04/2024</td>\n",
       "      <td>03:00:00</td>\n",
       "      <td>0.0</td>\n",
       "      <td>168.0</td>\n",
       "      <td>87.8</td>\n",
       "    </tr>\n",
       "    <tr>\n",
       "      <th>4</th>\n",
       "      <td>01/04/2024</td>\n",
       "      <td>04:00:00</td>\n",
       "      <td>0.0</td>\n",
       "      <td>166.0</td>\n",
       "      <td>84.5</td>\n",
       "    </tr>\n",
       "    <tr>\n",
       "      <th>...</th>\n",
       "      <td>...</td>\n",
       "      <td>...</td>\n",
       "      <td>...</td>\n",
       "      <td>...</td>\n",
       "      <td>...</td>\n",
       "    </tr>\n",
       "    <tr>\n",
       "      <th>1429</th>\n",
       "      <td>30/05/2024</td>\n",
       "      <td>20:00:00</td>\n",
       "      <td>0.0</td>\n",
       "      <td>253.0</td>\n",
       "      <td>NaN</td>\n",
       "    </tr>\n",
       "    <tr>\n",
       "      <th>1430</th>\n",
       "      <td>30/05/2024</td>\n",
       "      <td>21:00:00</td>\n",
       "      <td>0.0</td>\n",
       "      <td>252.0</td>\n",
       "      <td>NaN</td>\n",
       "    </tr>\n",
       "    <tr>\n",
       "      <th>1431</th>\n",
       "      <td>30/05/2024</td>\n",
       "      <td>22:00:00</td>\n",
       "      <td>0.0</td>\n",
       "      <td>251.0</td>\n",
       "      <td>NaN</td>\n",
       "    </tr>\n",
       "    <tr>\n",
       "      <th>1432</th>\n",
       "      <td>30/05/2024</td>\n",
       "      <td>23:00:00</td>\n",
       "      <td>0.0</td>\n",
       "      <td>250.0</td>\n",
       "      <td>NaN</td>\n",
       "    </tr>\n",
       "    <tr>\n",
       "      <th>1433</th>\n",
       "      <td>31/05/2024</td>\n",
       "      <td>00:00:00</td>\n",
       "      <td>0.0</td>\n",
       "      <td>250.0</td>\n",
       "      <td>NaN</td>\n",
       "    </tr>\n",
       "  </tbody>\n",
       "</table>\n",
       "<p>1434 rows × 5 columns</p>\n",
       "</div>"
      ],
      "text/plain": [
       "            Data      Hora  Chuva  Nivel   Vazao\n",
       "0     01/04/2024  00:00:00    0.0   172.0   94.0\n",
       "1     01/04/2024  01:00:00    0.0   170.0   90.9\n",
       "2     01/04/2024  02:00:00    0.0   169.0   89.4\n",
       "3     01/04/2024  03:00:00    0.0   168.0   87.8\n",
       "4     01/04/2024  04:00:00    0.0   166.0   84.5\n",
       "...          ...       ...    ...     ...    ...\n",
       "1429  30/05/2024  20:00:00    0.0   253.0    NaN\n",
       "1430  30/05/2024  21:00:00    0.0   252.0    NaN\n",
       "1431  30/05/2024  22:00:00    0.0   251.0    NaN\n",
       "1432  30/05/2024  23:00:00    0.0   250.0    NaN\n",
       "1433  31/05/2024  00:00:00    0.0   250.0    NaN\n",
       "\n",
       "[1434 rows x 5 columns]"
      ]
     },
     "execution_count": 155,
     "metadata": {},
     "output_type": "execute_result"
    }
   ],
   "source": [
    "#lendo o arquivo csv\n",
    "df = pd.read_csv('70150000.csv', sep = ';', encoding='latin1')\n",
    "df"
   ]
  },
  {
   "cell_type": "code",
   "execution_count": 156,
   "id": "abeea882-e143-48e8-bf3a-dfa2b0a88217",
   "metadata": {},
   "outputs": [
    {
     "name": "stdout",
     "output_type": "stream",
     "text": [
      "object\n",
      "object\n"
     ]
    }
   ],
   "source": [
    "print(df['Data'].dtype)\n",
    "print(df['Hora'].dtype)"
   ]
  },
  {
   "cell_type": "code",
   "execution_count": 166,
   "id": "9a69de8b-dc2b-45dd-880f-932b9a0f7592",
   "metadata": {},
   "outputs": [],
   "source": [
    "df['Vazao'] = pd.to_numeric(df['Vazao'])"
   ]
  },
  {
   "cell_type": "code",
   "execution_count": 158,
   "id": "2caa50ca-1171-4f11-bdcf-27099644cd46",
   "metadata": {},
   "outputs": [
    {
     "data": {
      "text/html": [
       "<div>\n",
       "<style scoped>\n",
       "    .dataframe tbody tr th:only-of-type {\n",
       "        vertical-align: middle;\n",
       "    }\n",
       "\n",
       "    .dataframe tbody tr th {\n",
       "        vertical-align: top;\n",
       "    }\n",
       "\n",
       "    .dataframe thead th {\n",
       "        text-align: right;\n",
       "    }\n",
       "</style>\n",
       "<table border=\"1\" class=\"dataframe\">\n",
       "  <thead>\n",
       "    <tr style=\"text-align: right;\">\n",
       "      <th></th>\n",
       "      <th>Chuva</th>\n",
       "      <th>Nivel</th>\n",
       "      <th>Vazao</th>\n",
       "    </tr>\n",
       "  </thead>\n",
       "  <tbody>\n",
       "    <tr>\n",
       "      <th>count</th>\n",
       "      <td>1434.000000</td>\n",
       "      <td>1434.000000</td>\n",
       "      <td>1372.000000</td>\n",
       "    </tr>\n",
       "    <tr>\n",
       "      <th>mean</th>\n",
       "      <td>0.473222</td>\n",
       "      <td>286.529289</td>\n",
       "      <td>368.966538</td>\n",
       "    </tr>\n",
       "    <tr>\n",
       "      <th>std</th>\n",
       "      <td>2.442556</td>\n",
       "      <td>162.264740</td>\n",
       "      <td>424.736094</td>\n",
       "    </tr>\n",
       "    <tr>\n",
       "      <th>min</th>\n",
       "      <td>0.000000</td>\n",
       "      <td>131.000000</td>\n",
       "      <td>48.700000</td>\n",
       "    </tr>\n",
       "    <tr>\n",
       "      <th>25%</th>\n",
       "      <td>0.000000</td>\n",
       "      <td>154.000000</td>\n",
       "      <td>69.000000</td>\n",
       "    </tr>\n",
       "    <tr>\n",
       "      <th>50%</th>\n",
       "      <td>0.000000</td>\n",
       "      <td>248.000000</td>\n",
       "      <td>209.120000</td>\n",
       "    </tr>\n",
       "    <tr>\n",
       "      <th>75%</th>\n",
       "      <td>0.000000</td>\n",
       "      <td>347.000000</td>\n",
       "      <td>482.225000</td>\n",
       "    </tr>\n",
       "    <tr>\n",
       "      <th>max</th>\n",
       "      <td>55.400000</td>\n",
       "      <td>978.000000</td>\n",
       "      <td>2649.530000</td>\n",
       "    </tr>\n",
       "  </tbody>\n",
       "</table>\n",
       "</div>"
      ],
      "text/plain": [
       "             Chuva       Nivel         Vazao\n",
       "count  1434.000000  1434.000000  1372.000000\n",
       "mean      0.473222   286.529289   368.966538\n",
       "std       2.442556   162.264740   424.736094\n",
       "min       0.000000   131.000000    48.700000\n",
       "25%       0.000000   154.000000    69.000000\n",
       "50%       0.000000   248.000000   209.120000\n",
       "75%       0.000000   347.000000   482.225000\n",
       "max      55.400000   978.000000  2649.530000"
      ]
     },
     "execution_count": 158,
     "metadata": {},
     "output_type": "execute_result"
    }
   ],
   "source": [
    "df.describe()"
   ]
  },
  {
   "cell_type": "code",
   "execution_count": 159,
   "id": "cac7c01e-a906-4ccf-9445-49f44f2c1a81",
   "metadata": {},
   "outputs": [],
   "source": [
    "#salvando as variáveis\n",
    "\n",
    "media = df['Vazao'].mean()\n",
    "desvio_padrao = df['Vazao'].std()"
   ]
  },
  {
   "cell_type": "code",
   "execution_count": null,
   "id": "75005a97-b5c7-430b-aa90-757396bcba20",
   "metadata": {},
   "outputs": [],
   "source": [
    "#instalando o matplotlib\n",
    "\n",
    "!pip install matplotlib"
   ]
  },
  {
   "cell_type": "code",
   "execution_count": 160,
   "id": "45b18ce8-9f6b-4992-bcb8-b2edfc9134dd",
   "metadata": {},
   "outputs": [],
   "source": [
    "#importando a biblioteca\n",
    "\n",
    "import matplotlib.pyplot as plt"
   ]
  },
  {
   "cell_type": "code",
   "execution_count": 161,
   "id": "c1c56718-2921-42ed-a638-90fa6946d2b3",
   "metadata": {},
   "outputs": [
    {
     "data": {
      "text/plain": [
       "0      2024-04-01 00:00:00\n",
       "1      2024-04-01 01:00:00\n",
       "2      2024-04-01 02:00:00\n",
       "3      2024-04-01 03:00:00\n",
       "4      2024-04-01 04:00:00\n",
       "               ...        \n",
       "1429   2024-05-30 20:00:00\n",
       "1430   2024-05-30 21:00:00\n",
       "1431   2024-05-30 22:00:00\n",
       "1432   2024-05-30 23:00:00\n",
       "1433   2024-05-31 00:00:00\n",
       "Name: Datas, Length: 1434, dtype: datetime64[ns]"
      ]
     },
     "execution_count": 161,
     "metadata": {},
     "output_type": "execute_result"
    }
   ],
   "source": [
    "#adequando as colunas de data e concatenando\n",
    "\n",
    "df['Data'] = df['Data'].astype(str)\n",
    "df['Hora'] = df['Hora'].astype(str)\n",
    "df['Datas'] = pd.to_datetime(df['Data'] + ' ' + df['Hora'], format='%d/%m/%Y %H:%M:%S')\n",
    "df['Datas']"
   ]
  },
  {
   "cell_type": "code",
   "execution_count": 168,
   "id": "1dc8a9c3-ac7e-407c-ba63-c0f251c2dcda",
   "metadata": {},
   "outputs": [
    {
     "data": {
      "image/png": "[encoded data removed]",
      "text/plain": [
       "<Figure size 1200x600 with 1 Axes>"
      ]
     },
     "metadata": {},
     "output_type": "display_data"
    }
   ],
   "source": [
    "#plotando o gráfico\n",
    "\n",
    "plt.figure(figsize=(12, 6))\n",
    "plt.plot(df['Datas'],df['Vazao'], label='Vazão')\n",
    "\n",
    "# linhas da média e do desvio padrão\n",
    "plt.axhline(media, color='red', linestyle='--', label=f'Média: {media:.2f}')\n",
    "plt.axhline(media + desvio_padrao, color='green', linestyle=':', label=f' Desvio Padrão (+): {media + desvio_padrao:.2f}')\n",
    "\n",
    "# adicionando título e legendas\n",
    "plt.title('Vazões - Estação 70150000')\n",
    "plt.xlabel('Datas')\n",
    "plt.ylabel('Vazões (m³/s)')\n",
    "\n",
    "plt.legend()\n",
    "plt.show()"
   ]
  },
  {
   "cell_type": "markdown",
   "id": "b456e851-07e0-49f8-90b7-9a1f2d32b92a",
   "metadata": {},
   "source": [
    "(a) Qual a média da sua série de dados? 368.97 m³/s\n",
    "(b) Qual o valor do meio (percentil 50%)? 209.12 m³/s\n",
    "(c) Qual a faixa de valores entre os percentis 25% e 75%? Valores entre 69 e 482.23"
   ]
  }
 ],
 "metadata": {
  "kernelspec": {
   "display_name": "Python 3 (ipykernel)",
   "language": "python",
   "name": "python3"
  },
  "language_info": {
   "codemirror_mode": {
    "name": "ipython",
    "version": 3
   },
   "file_extension": ".py",
   "mimetype": "text/x-python",
   "name": "python",
   "nbconvert_exporter": "python",
   "pygments_lexer": "ipython3",
   "version": "3.11.8"
  }
 },
 "nbformat": 4,
 "nbformat_minor": 5
}
